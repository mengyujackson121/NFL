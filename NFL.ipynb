{
 "cells": [
  {
   "cell_type": "code",
   "execution_count": 1,
   "metadata": {
    "collapsed": true
   },
   "outputs": [],
   "source": [
    "import pandas as pd\n",
    "import numpy as np\n",
    "import statistics\n",
    "import clean_data"
   ]
  },
  {
   "cell_type": "code",
   "execution_count": 2,
   "outputs": [],
   "source": [
    "def get_height_inches(player_row):\n",
    "    h = player_row[\"height\"]\n",
    "    ih = 0\n",
    "    if len(h) >= 3:\n",
    "        ih = int(h[0]) * 12 + int(h[2:])\n",
    "        h = ih\n",
    "    h = int(h)\n",
    "    return h"
   ],
   "metadata": {
    "collapsed": false,
    "pycharm": {
     "name": "#%%\n"
    }
   }
  },
  {
   "cell_type": "code",
   "execution_count": 3,
   "outputs": [],
   "source": [
    "def clean_players_height(players):\n",
    "    players[\"height\"] = players.apply(get_height_inches, axis=1)\n",
    "    return players"
   ],
   "metadata": {
    "collapsed": false,
    "pycharm": {
     "name": "#%%\n"
    }
   }
  },
  {
   "cell_type": "code",
   "execution_count": 4,
   "outputs": [],
   "source": [
    "games = pd.read_csv('data/games.csv')\n",
    "PFF = pd.read_csv('data/PFFScoutingData.csv')\n",
    "players = pd.read_csv('data/players.csv')\n",
    "plays = pd.read_csv('data/plays.csv')\n",
    "tracking2018 = pd.read_csv('data/tracking2018.csv')\n",
    "tracking2019 = pd.read_csv('data/tracking2019.csv')\n",
    "tracking2020 = pd.read_csv('data/tracking2020.csv')"
   ],
   "metadata": {
    "collapsed": false,
    "pycharm": {
     "name": "#%%\n"
    }
   }
  },
  {
   "cell_type": "code",
   "execution_count": 5,
   "outputs": [
    {
     "data": {
      "text/plain": "      nflId  height  weight   birthDate          collegeName Position  \\\n0     42901      73     208  1992-07-25        James Madison       SS   \n1     43501      72     220  1994-08-11     Central Michigan       FS   \n2     43534      72     205  1993-06-02             Illinois       SS   \n3     43535      73     235  1992-12-22               Temple      MLB   \n4     44174      73     236  1993-02-22           Texas Tech      ILB   \n...     ...     ...     ...         ...                  ...      ...   \n2727  33216      75     320  06/16/1986      Central Florida        G   \n2728  33184      75     265  05/02/1985  Winston-Salem State       DE   \n2729  45651      69     198  06/16/1993                 Iowa       WR   \n2730  41284      73     230  1992-10-20                  LSU       RB   \n2731  42849      70     205  12/14/1992           Texas Tech       WR   \n\n            displayName  \n0          Dean Marlowe  \n1         Kavon Frazier  \n2     Clayton Fejedelem  \n3      Tyler Matakevich  \n4          Sam Eguavoen  \n...                 ...  \n2727        Josh Sitton  \n2728      William Hayes  \n2729     Riley McCarron  \n2730        Jeremy Hill  \n2731    Bradley Marquez  \n\n[2732 rows x 7 columns]",
      "text/html": "<div>\n<style scoped>\n    .dataframe tbody tr th:only-of-type {\n        vertical-align: middle;\n    }\n\n    .dataframe tbody tr th {\n        vertical-align: top;\n    }\n\n    .dataframe thead th {\n        text-align: right;\n    }\n</style>\n<table border=\"1\" class=\"dataframe\">\n  <thead>\n    <tr style=\"text-align: right;\">\n      <th></th>\n      <th>nflId</th>\n      <th>height</th>\n      <th>weight</th>\n      <th>birthDate</th>\n      <th>collegeName</th>\n      <th>Position</th>\n      <th>displayName</th>\n    </tr>\n  </thead>\n  <tbody>\n    <tr>\n      <th>0</th>\n      <td>42901</td>\n      <td>73</td>\n      <td>208</td>\n      <td>1992-07-25</td>\n      <td>James Madison</td>\n      <td>SS</td>\n      <td>Dean Marlowe</td>\n    </tr>\n    <tr>\n      <th>1</th>\n      <td>43501</td>\n      <td>72</td>\n      <td>220</td>\n      <td>1994-08-11</td>\n      <td>Central Michigan</td>\n      <td>FS</td>\n      <td>Kavon Frazier</td>\n    </tr>\n    <tr>\n      <th>2</th>\n      <td>43534</td>\n      <td>72</td>\n      <td>205</td>\n      <td>1993-06-02</td>\n      <td>Illinois</td>\n      <td>SS</td>\n      <td>Clayton Fejedelem</td>\n    </tr>\n    <tr>\n      <th>3</th>\n      <td>43535</td>\n      <td>73</td>\n      <td>235</td>\n      <td>1992-12-22</td>\n      <td>Temple</td>\n      <td>MLB</td>\n      <td>Tyler Matakevich</td>\n    </tr>\n    <tr>\n      <th>4</th>\n      <td>44174</td>\n      <td>73</td>\n      <td>236</td>\n      <td>1993-02-22</td>\n      <td>Texas Tech</td>\n      <td>ILB</td>\n      <td>Sam Eguavoen</td>\n    </tr>\n    <tr>\n      <th>...</th>\n      <td>...</td>\n      <td>...</td>\n      <td>...</td>\n      <td>...</td>\n      <td>...</td>\n      <td>...</td>\n      <td>...</td>\n    </tr>\n    <tr>\n      <th>2727</th>\n      <td>33216</td>\n      <td>75</td>\n      <td>320</td>\n      <td>06/16/1986</td>\n      <td>Central Florida</td>\n      <td>G</td>\n      <td>Josh Sitton</td>\n    </tr>\n    <tr>\n      <th>2728</th>\n      <td>33184</td>\n      <td>75</td>\n      <td>265</td>\n      <td>05/02/1985</td>\n      <td>Winston-Salem State</td>\n      <td>DE</td>\n      <td>William Hayes</td>\n    </tr>\n    <tr>\n      <th>2729</th>\n      <td>45651</td>\n      <td>69</td>\n      <td>198</td>\n      <td>06/16/1993</td>\n      <td>Iowa</td>\n      <td>WR</td>\n      <td>Riley McCarron</td>\n    </tr>\n    <tr>\n      <th>2730</th>\n      <td>41284</td>\n      <td>73</td>\n      <td>230</td>\n      <td>1992-10-20</td>\n      <td>LSU</td>\n      <td>RB</td>\n      <td>Jeremy Hill</td>\n    </tr>\n    <tr>\n      <th>2731</th>\n      <td>42849</td>\n      <td>70</td>\n      <td>205</td>\n      <td>12/14/1992</td>\n      <td>Texas Tech</td>\n      <td>WR</td>\n      <td>Bradley Marquez</td>\n    </tr>\n  </tbody>\n</table>\n<p>2732 rows × 7 columns</p>\n</div>"
     },
     "execution_count": 5,
     "metadata": {},
     "output_type": "execute_result"
    }
   ],
   "source": [
    "clean_players_height(players)"
   ],
   "metadata": {
    "collapsed": false,
    "pycharm": {
     "name": "#%%\n"
    }
   }
  },
  {
   "cell_type": "code",
   "execution_count": 6,
   "outputs": [
    {
     "data": {
      "text/plain": "322"
     },
     "execution_count": 6,
     "metadata": {},
     "output_type": "execute_result"
    }
   ],
   "source": [
    "players['collegeName'].nunique()"
   ],
   "metadata": {
    "collapsed": false,
    "pycharm": {
     "name": "#%%\n"
    }
   }
  },
  {
   "cell_type": "code",
   "execution_count": 7,
   "outputs": [],
   "source": [
    "pp = players.groupby(['Position']).mean()"
   ],
   "metadata": {
    "collapsed": false,
    "pycharm": {
     "name": "#%%\n"
    }
   }
  },
  {
   "cell_type": "code",
   "execution_count": 8,
   "outputs": [],
   "source": [
    "#pp.sort_values(['height', 'weight' ], ascending=False)"
   ],
   "metadata": {
    "collapsed": false,
    "pycharm": {
     "name": "#%%\n"
    }
   }
  },
  {
   "cell_type": "code",
   "execution_count": 9,
   "outputs": [],
   "source": [
    "ppsize = players.groupby(['Position']).size()"
   ],
   "metadata": {
    "collapsed": false,
    "pycharm": {
     "name": "#%%\n"
    }
   }
  },
  {
   "cell_type": "code",
   "execution_count": 10,
   "outputs": [],
   "source": [
    "#ppsize.sort_values()"
   ],
   "metadata": {
    "collapsed": false,
    "pycharm": {
     "name": "#%%\n"
    }
   }
  },
  {
   "cell_type": "code",
   "execution_count": 13,
   "outputs": [
    {
     "name": "stdout",
     "output_type": "stream",
     "text": [
      "<class 'pandas.core.frame.DataFrame'>\n",
      "RangeIndex: 19979 entries, 0 to 19978\n",
      "Data columns (total 25 columns):\n",
      " #   Column                  Non-Null Count  Dtype  \n",
      "---  ------                  --------------  -----  \n",
      " 0   gameId                  19979 non-null  int64  \n",
      " 1   playId                  19979 non-null  int64  \n",
      " 2   playDescription         19979 non-null  object \n",
      " 3   quarter                 19979 non-null  int64  \n",
      " 4   down                    19979 non-null  int64  \n",
      " 5   yardsToGo               19979 non-null  int64  \n",
      " 6   possessionTeam          19979 non-null  object \n",
      " 7   specialTeamsPlayType    19979 non-null  object \n",
      " 8   specialTeamsResult      19979 non-null  object \n",
      " 9   kickerId                19878 non-null  float64\n",
      " 10  returnerId              6938 non-null   object \n",
      " 11  kickBlockerId           100 non-null    float64\n",
      " 12  yardlineSide            19813 non-null  object \n",
      " 13  yardlineNumber          19979 non-null  int64  \n",
      " 14  gameClock               19979 non-null  object \n",
      " 15  penaltyCodes            1102 non-null   object \n",
      " 16  penaltyJerseyNumbers    1102 non-null   object \n",
      " 17  penaltyYards            1102 non-null   float64\n",
      " 18  preSnapHomeScore        19979 non-null  int64  \n",
      " 19  preSnapVisitorScore     19979 non-null  int64  \n",
      " 20  passResult              45 non-null     object \n",
      " 21  kickLength              16327 non-null  float64\n",
      " 22  kickReturnYardage       5324 non-null   float64\n",
      " 23  playResult              19979 non-null  int64  \n",
      " 24  absoluteYardlineNumber  19979 non-null  int64  \n",
      "dtypes: float64(5), int64(10), object(10)\n",
      "memory usage: 3.8+ MB\n"
     ]
    }
   ],
   "source": [
    "plays.info()"
   ],
   "metadata": {
    "collapsed": false,
    "pycharm": {
     "name": "#%%\n"
    }
   }
  },
  {
   "cell_type": "code",
   "execution_count": 15,
   "outputs": [
    {
     "data": {
      "text/plain": "       gameId  playId                                    playDescription  \\\n0  2018090600      37  J.Elliott kicks 65 yards from PHI 35 to end zo...   \n1  2018090600     366  (9:20) C.Johnston punts 56 yards to ATL 36, Ce...   \n2  2018090600     658  (5:03) M.Bryant 21 yard field goal is GOOD, Ce...   \n3  2018090600     677  M.Bosher kicks 64 yards from ATL 35 to PHI 1. ...   \n4  2018090600     872  (:33) C.Johnston punts 65 yards to end zone, C...   \n\n   quarter  down  yardsToGo possessionTeam specialTeamsPlayType  \\\n0        1     0          0            PHI              Kickoff   \n1        1     4          4            PHI                 Punt   \n2        1     4          3            ATL           Field Goal   \n3        1     0          0            ATL              Kickoff   \n4        1     4         18            PHI                 Punt   \n\n  specialTeamsResult  kickerId  ... penaltyCodes  penaltyJerseyNumbers  \\\n0          Touchback   44966.0  ...          NaN                   NaN   \n1             Return   45603.0  ...         UNSd                PHI 18   \n2  Kick Attempt Good   27091.0  ...          NaN                   NaN   \n3             Return   37267.0  ...          NaN                   NaN   \n4          Touchback   45603.0  ...          NaN                   NaN   \n\n  penaltyYards  preSnapHomeScore preSnapVisitorScore passResult kickLength  \\\n0          NaN                 0                   0        NaN       66.0   \n1        -15.0                 0                   0        NaN       56.0   \n2          NaN                 0                   0        NaN       21.0   \n3          NaN                 0                   3        NaN       64.0   \n4          NaN                 0                   3        NaN       65.0   \n\n   kickReturnYardage  playResult  absoluteYardlineNumber  \n0                NaN          40                      45  \n1                5.0          36                      18  \n2                NaN           0                      13  \n3               30.0          34                      75  \n4                NaN          45                      45  \n\n[5 rows x 25 columns]",
      "text/html": "<div>\n<style scoped>\n    .dataframe tbody tr th:only-of-type {\n        vertical-align: middle;\n    }\n\n    .dataframe tbody tr th {\n        vertical-align: top;\n    }\n\n    .dataframe thead th {\n        text-align: right;\n    }\n</style>\n<table border=\"1\" class=\"dataframe\">\n  <thead>\n    <tr style=\"text-align: right;\">\n      <th></th>\n      <th>gameId</th>\n      <th>playId</th>\n      <th>playDescription</th>\n      <th>quarter</th>\n      <th>down</th>\n      <th>yardsToGo</th>\n      <th>possessionTeam</th>\n      <th>specialTeamsPlayType</th>\n      <th>specialTeamsResult</th>\n      <th>kickerId</th>\n      <th>...</th>\n      <th>penaltyCodes</th>\n      <th>penaltyJerseyNumbers</th>\n      <th>penaltyYards</th>\n      <th>preSnapHomeScore</th>\n      <th>preSnapVisitorScore</th>\n      <th>passResult</th>\n      <th>kickLength</th>\n      <th>kickReturnYardage</th>\n      <th>playResult</th>\n      <th>absoluteYardlineNumber</th>\n    </tr>\n  </thead>\n  <tbody>\n    <tr>\n      <th>0</th>\n      <td>2018090600</td>\n      <td>37</td>\n      <td>J.Elliott kicks 65 yards from PHI 35 to end zo...</td>\n      <td>1</td>\n      <td>0</td>\n      <td>0</td>\n      <td>PHI</td>\n      <td>Kickoff</td>\n      <td>Touchback</td>\n      <td>44966.0</td>\n      <td>...</td>\n      <td>NaN</td>\n      <td>NaN</td>\n      <td>NaN</td>\n      <td>0</td>\n      <td>0</td>\n      <td>NaN</td>\n      <td>66.0</td>\n      <td>NaN</td>\n      <td>40</td>\n      <td>45</td>\n    </tr>\n    <tr>\n      <th>1</th>\n      <td>2018090600</td>\n      <td>366</td>\n      <td>(9:20) C.Johnston punts 56 yards to ATL 36, Ce...</td>\n      <td>1</td>\n      <td>4</td>\n      <td>4</td>\n      <td>PHI</td>\n      <td>Punt</td>\n      <td>Return</td>\n      <td>45603.0</td>\n      <td>...</td>\n      <td>UNSd</td>\n      <td>PHI 18</td>\n      <td>-15.0</td>\n      <td>0</td>\n      <td>0</td>\n      <td>NaN</td>\n      <td>56.0</td>\n      <td>5.0</td>\n      <td>36</td>\n      <td>18</td>\n    </tr>\n    <tr>\n      <th>2</th>\n      <td>2018090600</td>\n      <td>658</td>\n      <td>(5:03) M.Bryant 21 yard field goal is GOOD, Ce...</td>\n      <td>1</td>\n      <td>4</td>\n      <td>3</td>\n      <td>ATL</td>\n      <td>Field Goal</td>\n      <td>Kick Attempt Good</td>\n      <td>27091.0</td>\n      <td>...</td>\n      <td>NaN</td>\n      <td>NaN</td>\n      <td>NaN</td>\n      <td>0</td>\n      <td>0</td>\n      <td>NaN</td>\n      <td>21.0</td>\n      <td>NaN</td>\n      <td>0</td>\n      <td>13</td>\n    </tr>\n    <tr>\n      <th>3</th>\n      <td>2018090600</td>\n      <td>677</td>\n      <td>M.Bosher kicks 64 yards from ATL 35 to PHI 1. ...</td>\n      <td>1</td>\n      <td>0</td>\n      <td>0</td>\n      <td>ATL</td>\n      <td>Kickoff</td>\n      <td>Return</td>\n      <td>37267.0</td>\n      <td>...</td>\n      <td>NaN</td>\n      <td>NaN</td>\n      <td>NaN</td>\n      <td>0</td>\n      <td>3</td>\n      <td>NaN</td>\n      <td>64.0</td>\n      <td>30.0</td>\n      <td>34</td>\n      <td>75</td>\n    </tr>\n    <tr>\n      <th>4</th>\n      <td>2018090600</td>\n      <td>872</td>\n      <td>(:33) C.Johnston punts 65 yards to end zone, C...</td>\n      <td>1</td>\n      <td>4</td>\n      <td>18</td>\n      <td>PHI</td>\n      <td>Punt</td>\n      <td>Touchback</td>\n      <td>45603.0</td>\n      <td>...</td>\n      <td>NaN</td>\n      <td>NaN</td>\n      <td>NaN</td>\n      <td>0</td>\n      <td>3</td>\n      <td>NaN</td>\n      <td>65.0</td>\n      <td>NaN</td>\n      <td>45</td>\n      <td>45</td>\n    </tr>\n  </tbody>\n</table>\n<p>5 rows × 25 columns</p>\n</div>"
     },
     "execution_count": 15,
     "metadata": {},
     "output_type": "execute_result"
    }
   ],
   "source": [
    "plays.head()\n",
    "\n"
   ],
   "metadata": {
    "collapsed": false,
    "pycharm": {
     "name": "#%%\n"
    }
   }
  }
 ],
 "metadata": {
  "kernelspec": {
   "display_name": "Python 3",
   "language": "python",
   "name": "python3"
  },
  "language_info": {
   "codemirror_mode": {
    "name": "ipython",
    "version": 2
   },
   "file_extension": ".py",
   "mimetype": "text/x-python",
   "name": "python",
   "nbconvert_exporter": "python",
   "pygments_lexer": "ipython2",
   "version": "2.7.6"
  }
 },
 "nbformat": 4,
 "nbformat_minor": 0
}