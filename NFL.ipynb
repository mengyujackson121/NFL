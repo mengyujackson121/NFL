{
 "cells": [
  {
   "cell_type": "code",
   "execution_count": 1,
   "metadata": {
    "collapsed": true
   },
   "outputs": [],
   "source": [
    "import pandas as pd\n",
    "import numpy as np\n",
    "import statistics\n",
    "import clean_data"
   ]
  },
  {
   "cell_type": "code",
   "execution_count": 2,
   "outputs": [],
   "source": [
    "def get_height_inches(player_row):\n",
    "    h = player_row[\"height\"]\n",
    "    ih = 0\n",
    "    if len(h) >= 3:\n",
    "        ih = int(h[0]) * 12 + int(h[2:])\n",
    "        h = ih\n",
    "    h = int(h)\n",
    "    return h"
   ],
   "metadata": {
    "collapsed": false,
    "pycharm": {
     "name": "#%%\n"
    }
   }
  },
  {
   "cell_type": "code",
   "execution_count": 3,
   "outputs": [],
   "source": [
    "def clean_players_height(players):\n",
    "    players[\"height\"] = players.apply(get_height_inches, axis=1)\n",
    "    return players"
   ],
   "metadata": {
    "collapsed": false,
    "pycharm": {
     "name": "#%%\n"
    }
   }
  },
  {
   "cell_type": "code",
   "execution_count": 4,
   "outputs": [],
   "source": [
    "games = pd.read_csv('data/games.csv')\n",
    "PFF = pd.read_csv('data/PFFScoutingData.csv')\n",
    "players = pd.read_csv('data/players.csv')\n",
    "plays = pd.read_csv('data/plays.csv')\n",
    "tracking2018 = pd.read_csv('data/tracking2018.csv')\n",
    "tracking2019 = pd.read_csv('data/tracking2019.csv')\n",
    "tracking2020 = pd.read_csv('data/tracking2020.csv')"
   ],
   "metadata": {
    "collapsed": false,
    "pycharm": {
     "name": "#%%\n"
    }
   }
  },
  {
   "cell_type": "code",
   "execution_count": 5,
   "outputs": [
    {
     "data": {
      "text/plain": "      nflId  height  weight   birthDate          collegeName Position  \\\n0     42901      73     208  1992-07-25        James Madison       SS   \n1     43501      72     220  1994-08-11     Central Michigan       FS   \n2     43534      72     205  1993-06-02             Illinois       SS   \n3     43535      73     235  1992-12-22               Temple      MLB   \n4     44174      73     236  1993-02-22           Texas Tech      ILB   \n...     ...     ...     ...         ...                  ...      ...   \n2727  33216      75     320  06/16/1986      Central Florida        G   \n2728  33184      75     265  05/02/1985  Winston-Salem State       DE   \n2729  45651      69     198  06/16/1993                 Iowa       WR   \n2730  41284      73     230  1992-10-20                  LSU       RB   \n2731  42849      70     205  12/14/1992           Texas Tech       WR   \n\n            displayName  \n0          Dean Marlowe  \n1         Kavon Frazier  \n2     Clayton Fejedelem  \n3      Tyler Matakevich  \n4          Sam Eguavoen  \n...                 ...  \n2727        Josh Sitton  \n2728      William Hayes  \n2729     Riley McCarron  \n2730        Jeremy Hill  \n2731    Bradley Marquez  \n\n[2732 rows x 7 columns]",
      "text/html": "<div>\n<style scoped>\n    .dataframe tbody tr th:only-of-type {\n        vertical-align: middle;\n    }\n\n    .dataframe tbody tr th {\n        vertical-align: top;\n    }\n\n    .dataframe thead th {\n        text-align: right;\n    }\n</style>\n<table border=\"1\" class=\"dataframe\">\n  <thead>\n    <tr style=\"text-align: right;\">\n      <th></th>\n      <th>nflId</th>\n      <th>height</th>\n      <th>weight</th>\n      <th>birthDate</th>\n      <th>collegeName</th>\n      <th>Position</th>\n      <th>displayName</th>\n    </tr>\n  </thead>\n  <tbody>\n    <tr>\n      <th>0</th>\n      <td>42901</td>\n      <td>73</td>\n      <td>208</td>\n      <td>1992-07-25</td>\n      <td>James Madison</td>\n      <td>SS</td>\n      <td>Dean Marlowe</td>\n    </tr>\n    <tr>\n      <th>1</th>\n      <td>43501</td>\n      <td>72</td>\n      <td>220</td>\n      <td>1994-08-11</td>\n      <td>Central Michigan</td>\n      <td>FS</td>\n      <td>Kavon Frazier</td>\n    </tr>\n    <tr>\n      <th>2</th>\n      <td>43534</td>\n      <td>72</td>\n      <td>205</td>\n      <td>1993-06-02</td>\n      <td>Illinois</td>\n      <td>SS</td>\n      <td>Clayton Fejedelem</td>\n    </tr>\n    <tr>\n      <th>3</th>\n      <td>43535</td>\n      <td>73</td>\n      <td>235</td>\n      <td>1992-12-22</td>\n      <td>Temple</td>\n      <td>MLB</td>\n      <td>Tyler Matakevich</td>\n    </tr>\n    <tr>\n      <th>4</th>\n      <td>44174</td>\n      <td>73</td>\n      <td>236</td>\n      <td>1993-02-22</td>\n      <td>Texas Tech</td>\n      <td>ILB</td>\n      <td>Sam Eguavoen</td>\n    </tr>\n    <tr>\n      <th>...</th>\n      <td>...</td>\n      <td>...</td>\n      <td>...</td>\n      <td>...</td>\n      <td>...</td>\n      <td>...</td>\n      <td>...</td>\n    </tr>\n    <tr>\n      <th>2727</th>\n      <td>33216</td>\n      <td>75</td>\n      <td>320</td>\n      <td>06/16/1986</td>\n      <td>Central Florida</td>\n      <td>G</td>\n      <td>Josh Sitton</td>\n    </tr>\n    <tr>\n      <th>2728</th>\n      <td>33184</td>\n      <td>75</td>\n      <td>265</td>\n      <td>05/02/1985</td>\n      <td>Winston-Salem State</td>\n      <td>DE</td>\n      <td>William Hayes</td>\n    </tr>\n    <tr>\n      <th>2729</th>\n      <td>45651</td>\n      <td>69</td>\n      <td>198</td>\n      <td>06/16/1993</td>\n      <td>Iowa</td>\n      <td>WR</td>\n      <td>Riley McCarron</td>\n    </tr>\n    <tr>\n      <th>2730</th>\n      <td>41284</td>\n      <td>73</td>\n      <td>230</td>\n      <td>1992-10-20</td>\n      <td>LSU</td>\n      <td>RB</td>\n      <td>Jeremy Hill</td>\n    </tr>\n    <tr>\n      <th>2731</th>\n      <td>42849</td>\n      <td>70</td>\n      <td>205</td>\n      <td>12/14/1992</td>\n      <td>Texas Tech</td>\n      <td>WR</td>\n      <td>Bradley Marquez</td>\n    </tr>\n  </tbody>\n</table>\n<p>2732 rows × 7 columns</p>\n</div>"
     },
     "execution_count": 5,
     "metadata": {},
     "output_type": "execute_result"
    }
   ],
   "source": [
    "clean_players_height(players)"
   ],
   "metadata": {
    "collapsed": false,
    "pycharm": {
     "name": "#%%\n"
    }
   }
  },
  {
   "cell_type": "code",
   "execution_count": 6,
   "outputs": [
    {
     "data": {
      "text/plain": "322"
     },
     "execution_count": 6,
     "metadata": {},
     "output_type": "execute_result"
    }
   ],
   "source": [
    "players['collegeName'].nunique()"
   ],
   "metadata": {
    "collapsed": false,
    "pycharm": {
     "name": "#%%\n"
    }
   }
  },
  {
   "cell_type": "code",
   "execution_count": 7,
   "outputs": [],
   "source": [
    "pp = players.groupby(['Position']).mean()"
   ],
   "metadata": {
    "collapsed": false,
    "pycharm": {
     "name": "#%%\n"
    }
   }
  },
  {
   "cell_type": "code",
   "execution_count": 8,
   "outputs": [],
   "source": [
    "#pp.sort_values(['height', 'weight' ], ascending=False)"
   ],
   "metadata": {
    "collapsed": false,
    "pycharm": {
     "name": "#%%\n"
    }
   }
  },
  {
   "cell_type": "code",
   "execution_count": 9,
   "outputs": [],
   "source": [
    "ppsize = players.groupby(['Position']).size()"
   ],
   "metadata": {
    "collapsed": false,
    "pycharm": {
     "name": "#%%\n"
    }
   }
  },
  {
   "cell_type": "code",
   "execution_count": 10,
   "outputs": [],
   "source": [
    "#ppsize.sort_values()"
   ],
   "metadata": {
    "collapsed": false,
    "pycharm": {
     "name": "#%%\n"
    }
   }
  },
  {
   "cell_type": "code",
   "execution_count": 12,
   "outputs": [
    {
     "name": "stdout",
     "output_type": "stream",
     "text": [
      "<class 'pandas.core.frame.DataFrame'>\n",
      "RangeIndex: 19979 entries, 0 to 19978\n",
      "Data columns (total 20 columns):\n",
      " #   Column                   Non-Null Count  Dtype  \n",
      "---  ------                   --------------  -----  \n",
      " 0   gameId                   19979 non-null  int64  \n",
      " 1   playId                   19979 non-null  int64  \n",
      " 2   snapDetail               5919 non-null   object \n",
      " 3   snapTime                 5918 non-null   float64\n",
      " 4   operationTime            5918 non-null   float64\n",
      " 5   hangTime                 13098 non-null  float64\n",
      " 6   kickType                 13723 non-null  object \n",
      " 7   kickDirectionIntended    13701 non-null  object \n",
      " 8   kickDirectionActual      13701 non-null  object \n",
      " 9   returnDirectionIntended  4754 non-null   object \n",
      " 10  returnDirectionActual    4756 non-null   object \n",
      " 11  missedTackler            1348 non-null   object \n",
      " 12  assistTackler            1034 non-null   object \n",
      " 13  tackler                  4759 non-null   object \n",
      " 14  kickoffReturnFormation   7843 non-null   object \n",
      " 15  gunners                  5901 non-null   object \n",
      " 16  puntRushers              3010 non-null   object \n",
      " 17  specialTeamsSafeties     15937 non-null  object \n",
      " 18  vises                    5878 non-null   object \n",
      " 19  kickContactType          5879 non-null   object \n",
      "dtypes: float64(3), int64(2), object(15)\n",
      "memory usage: 3.0+ MB\n"
     ]
    }
   ],
   "source": [
    "PFF.info()"
   ],
   "metadata": {
    "collapsed": false,
    "pycharm": {
     "name": "#%%\n"
    }
   }
  },
  {
   "cell_type": "code",
   "execution_count": null,
   "outputs": [],
   "source": [],
   "metadata": {
    "collapsed": false,
    "pycharm": {
     "name": "#%%\n"
    }
   }
  }
 ],
 "metadata": {
  "kernelspec": {
   "display_name": "Python 3",
   "language": "python",
   "name": "python3"
  },
  "language_info": {
   "codemirror_mode": {
    "name": "ipython",
    "version": 2
   },
   "file_extension": ".py",
   "mimetype": "text/x-python",
   "name": "python",
   "nbconvert_exporter": "python",
   "pygments_lexer": "ipython2",
   "version": "2.7.6"
  }
 },
 "nbformat": 4,
 "nbformat_minor": 0
}