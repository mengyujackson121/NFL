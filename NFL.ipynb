{
 "cells": [
  {
   "cell_type": "code",
   "execution_count": 1,
   "metadata": {
    "collapsed": true
   },
   "outputs": [],
   "source": [
    "import pandas as pd\n",
    "import numpy as np\n",
    "import statistics\n",
    "import clean_data"
   ]
  },
  {
   "cell_type": "code",
   "execution_count": 8,
   "outputs": [],
   "source": [
    "def get_height_inches(player_row):\n",
    "    h = player_row[\"height\"]\n",
    "    ih = 0\n",
    "    if len(h) >= 3:\n",
    "        ih = int(h[0]) * 12 + int(h[2:])\n",
    "        h = ih\n",
    "    h = int(h)\n",
    "    return h"
   ],
   "metadata": {
    "collapsed": false,
    "pycharm": {
     "name": "#%%\n"
    }
   }
  },
  {
   "cell_type": "code",
   "execution_count": 9,
   "outputs": [],
   "source": [
    "def clean_players_height(players):\n",
    "    players[\"height\"] = players.apply(get_height_inches, axis=1)\n",
    "    return players"
   ],
   "metadata": {
    "collapsed": false,
    "pycharm": {
     "name": "#%%\n"
    }
   }
  },
  {
   "cell_type": "code",
   "execution_count": 2,
   "outputs": [],
   "source": [
    "games = pd.read_csv('data/games.csv')\n",
    "PFF = pd.read_csv('data/PFFScoutingData.csv')\n",
    "players = pd.read_csv('data/players.csv')\n",
    "plays = pd.read_csv('data/plays.csv')\n",
    "tracking2018 = pd.read_csv('data/tracking2018.csv')\n",
    "tracking2019 = pd.read_csv('data/tracking2019.csv')\n",
    "tracking2020 = pd.read_csv('data/tracking2020.csv')"
   ],
   "metadata": {
    "collapsed": false,
    "pycharm": {
     "name": "#%%\n"
    }
   }
  },
  {
   "cell_type": "code",
   "execution_count": 10,
   "outputs": [
    {
     "data": {
      "text/plain": "      nflId  height  weight   birthDate          collegeName Position  \\\n0     42901      73     208  1992-07-25        James Madison       SS   \n1     43501      72     220  1994-08-11     Central Michigan       FS   \n2     43534      72     205  1993-06-02             Illinois       SS   \n3     43535      73     235  1992-12-22               Temple      MLB   \n4     44174      73     236  1993-02-22           Texas Tech      ILB   \n...     ...     ...     ...         ...                  ...      ...   \n2727  33216      75     320  06/16/1986      Central Florida        G   \n2728  33184      75     265  05/02/1985  Winston-Salem State       DE   \n2729  45651      69     198  06/16/1993                 Iowa       WR   \n2730  41284      73     230  1992-10-20                  LSU       RB   \n2731  42849      70     205  12/14/1992           Texas Tech       WR   \n\n            displayName  \n0          Dean Marlowe  \n1         Kavon Frazier  \n2     Clayton Fejedelem  \n3      Tyler Matakevich  \n4          Sam Eguavoen  \n...                 ...  \n2727        Josh Sitton  \n2728      William Hayes  \n2729     Riley McCarron  \n2730        Jeremy Hill  \n2731    Bradley Marquez  \n\n[2732 rows x 7 columns]",
      "text/html": "<div>\n<style scoped>\n    .dataframe tbody tr th:only-of-type {\n        vertical-align: middle;\n    }\n\n    .dataframe tbody tr th {\n        vertical-align: top;\n    }\n\n    .dataframe thead th {\n        text-align: right;\n    }\n</style>\n<table border=\"1\" class=\"dataframe\">\n  <thead>\n    <tr style=\"text-align: right;\">\n      <th></th>\n      <th>nflId</th>\n      <th>height</th>\n      <th>weight</th>\n      <th>birthDate</th>\n      <th>collegeName</th>\n      <th>Position</th>\n      <th>displayName</th>\n    </tr>\n  </thead>\n  <tbody>\n    <tr>\n      <th>0</th>\n      <td>42901</td>\n      <td>73</td>\n      <td>208</td>\n      <td>1992-07-25</td>\n      <td>James Madison</td>\n      <td>SS</td>\n      <td>Dean Marlowe</td>\n    </tr>\n    <tr>\n      <th>1</th>\n      <td>43501</td>\n      <td>72</td>\n      <td>220</td>\n      <td>1994-08-11</td>\n      <td>Central Michigan</td>\n      <td>FS</td>\n      <td>Kavon Frazier</td>\n    </tr>\n    <tr>\n      <th>2</th>\n      <td>43534</td>\n      <td>72</td>\n      <td>205</td>\n      <td>1993-06-02</td>\n      <td>Illinois</td>\n      <td>SS</td>\n      <td>Clayton Fejedelem</td>\n    </tr>\n    <tr>\n      <th>3</th>\n      <td>43535</td>\n      <td>73</td>\n      <td>235</td>\n      <td>1992-12-22</td>\n      <td>Temple</td>\n      <td>MLB</td>\n      <td>Tyler Matakevich</td>\n    </tr>\n    <tr>\n      <th>4</th>\n      <td>44174</td>\n      <td>73</td>\n      <td>236</td>\n      <td>1993-02-22</td>\n      <td>Texas Tech</td>\n      <td>ILB</td>\n      <td>Sam Eguavoen</td>\n    </tr>\n    <tr>\n      <th>...</th>\n      <td>...</td>\n      <td>...</td>\n      <td>...</td>\n      <td>...</td>\n      <td>...</td>\n      <td>...</td>\n      <td>...</td>\n    </tr>\n    <tr>\n      <th>2727</th>\n      <td>33216</td>\n      <td>75</td>\n      <td>320</td>\n      <td>06/16/1986</td>\n      <td>Central Florida</td>\n      <td>G</td>\n      <td>Josh Sitton</td>\n    </tr>\n    <tr>\n      <th>2728</th>\n      <td>33184</td>\n      <td>75</td>\n      <td>265</td>\n      <td>05/02/1985</td>\n      <td>Winston-Salem State</td>\n      <td>DE</td>\n      <td>William Hayes</td>\n    </tr>\n    <tr>\n      <th>2729</th>\n      <td>45651</td>\n      <td>69</td>\n      <td>198</td>\n      <td>06/16/1993</td>\n      <td>Iowa</td>\n      <td>WR</td>\n      <td>Riley McCarron</td>\n    </tr>\n    <tr>\n      <th>2730</th>\n      <td>41284</td>\n      <td>73</td>\n      <td>230</td>\n      <td>1992-10-20</td>\n      <td>LSU</td>\n      <td>RB</td>\n      <td>Jeremy Hill</td>\n    </tr>\n    <tr>\n      <th>2731</th>\n      <td>42849</td>\n      <td>70</td>\n      <td>205</td>\n      <td>12/14/1992</td>\n      <td>Texas Tech</td>\n      <td>WR</td>\n      <td>Bradley Marquez</td>\n    </tr>\n  </tbody>\n</table>\n<p>2732 rows × 7 columns</p>\n</div>"
     },
     "execution_count": 10,
     "metadata": {},
     "output_type": "execute_result"
    }
   ],
   "source": [
    "clean_players_height(players)"
   ],
   "metadata": {
    "collapsed": false,
    "pycharm": {
     "name": "#%%\n"
    }
   }
  },
  {
   "cell_type": "code",
   "execution_count": 22,
   "outputs": [
    {
     "name": "stdout",
     "output_type": "stream",
     "text": [
      "<class 'pandas.core.frame.DataFrame'>\n",
      "RangeIndex: 2732 entries, 0 to 2731\n",
      "Data columns (total 7 columns):\n",
      " #   Column       Non-Null Count  Dtype \n",
      "---  ------       --------------  ----- \n",
      " 0   nflId        2732 non-null   int64 \n",
      " 1   height       2732 non-null   int64 \n",
      " 2   weight       2732 non-null   int64 \n",
      " 3   birthDate    2715 non-null   object\n",
      " 4   collegeName  2724 non-null   object\n",
      " 5   Position     2732 non-null   object\n",
      " 6   displayName  2732 non-null   object\n",
      "dtypes: int64(3), object(4)\n",
      "memory usage: 149.5+ KB\n"
     ]
    }
   ],
   "source": [
    "players.info()\n"
   ],
   "metadata": {
    "collapsed": false,
    "pycharm": {
     "name": "#%%\n"
    }
   }
  },
  {
   "cell_type": "code",
   "execution_count": 28,
   "outputs": [
    {
     "ename": "TypeError",
     "evalue": "cannot convert the series to <class 'int'>",
     "output_type": "error",
     "traceback": [
      "\u001B[1;31m---------------------------------------------------------------------------\u001B[0m",
      "\u001B[1;31mTypeError\u001B[0m                                 Traceback (most recent call last)",
      "\u001B[1;32m~\\AppData\\Local\\Temp/ipykernel_29424/2438479368.py\u001B[0m in \u001B[0;36m<module>\u001B[1;34m\u001B[0m\n\u001B[1;32m----> 1\u001B[1;33m \u001B[0mplayers\u001B[0m\u001B[1;33m[\u001B[0m\u001B[1;34m'age'\u001B[0m\u001B[1;33m]\u001B[0m \u001B[1;33m=\u001B[0m \u001B[1;36m2021\u001B[0m \u001B[1;33m-\u001B[0m \u001B[0mint\u001B[0m\u001B[1;33m(\u001B[0m\u001B[0mplayers\u001B[0m\u001B[1;33m[\u001B[0m\u001B[1;34m'birthDate'\u001B[0m\u001B[1;33m]\u001B[0m\u001B[1;33m[\u001B[0m\u001B[1;33m:\u001B[0m\u001B[1;36m4\u001B[0m\u001B[1;33m]\u001B[0m\u001B[1;33m)\u001B[0m\u001B[1;33m\u001B[0m\u001B[1;33m\u001B[0m\u001B[0m\n\u001B[0m\u001B[0;32m      2\u001B[0m \u001B[1;33m\u001B[0m\u001B[0m\n",
      "\u001B[1;32mc:\\users\\kiwini\\.virtualenvs\\nfl\\lib\\site-packages\\pandas\\core\\series.py\u001B[0m in \u001B[0;36mwrapper\u001B[1;34m(self)\u001B[0m\n\u001B[0;32m    183\u001B[0m         \u001B[1;32mif\u001B[0m \u001B[0mlen\u001B[0m\u001B[1;33m(\u001B[0m\u001B[0mself\u001B[0m\u001B[1;33m)\u001B[0m \u001B[1;33m==\u001B[0m \u001B[1;36m1\u001B[0m\u001B[1;33m:\u001B[0m\u001B[1;33m\u001B[0m\u001B[1;33m\u001B[0m\u001B[0m\n\u001B[0;32m    184\u001B[0m             \u001B[1;32mreturn\u001B[0m \u001B[0mconverter\u001B[0m\u001B[1;33m(\u001B[0m\u001B[0mself\u001B[0m\u001B[1;33m.\u001B[0m\u001B[0miloc\u001B[0m\u001B[1;33m[\u001B[0m\u001B[1;36m0\u001B[0m\u001B[1;33m]\u001B[0m\u001B[1;33m)\u001B[0m\u001B[1;33m\u001B[0m\u001B[1;33m\u001B[0m\u001B[0m\n\u001B[1;32m--> 185\u001B[1;33m         \u001B[1;32mraise\u001B[0m \u001B[0mTypeError\u001B[0m\u001B[1;33m(\u001B[0m\u001B[1;34mf\"cannot convert the series to {converter}\"\u001B[0m\u001B[1;33m)\u001B[0m\u001B[1;33m\u001B[0m\u001B[1;33m\u001B[0m\u001B[0m\n\u001B[0m\u001B[0;32m    186\u001B[0m \u001B[1;33m\u001B[0m\u001B[0m\n\u001B[0;32m    187\u001B[0m     \u001B[0mwrapper\u001B[0m\u001B[1;33m.\u001B[0m\u001B[0m__name__\u001B[0m \u001B[1;33m=\u001B[0m \u001B[1;34mf\"__{converter.__name__}__\"\u001B[0m\u001B[1;33m\u001B[0m\u001B[1;33m\u001B[0m\u001B[0m\n",
      "\u001B[1;31mTypeError\u001B[0m: cannot convert the series to <class 'int'>"
     ]
    }
   ],
   "source": [
    "players['age'] = 2021 - int(players['birthDate'][:4])"
   ],
   "metadata": {
    "collapsed": false,
    "pycharm": {
     "name": "#%%\n"
    }
   }
  },
  {
   "cell_type": "code",
   "execution_count": 29,
   "outputs": [
    {
     "data": {
      "text/plain": "17"
     },
     "execution_count": 29,
     "metadata": {},
     "output_type": "execute_result"
    }
   ],
   "source": [
    "players['birthDate'].isna().sum()"
   ],
   "metadata": {
    "collapsed": false,
    "pycharm": {
     "name": "#%%\n"
    }
   }
  },
  {
   "cell_type": "code",
   "execution_count": 26,
   "outputs": [
    {
     "data": {
      "text/plain": "'1992'"
     },
     "execution_count": 26,
     "metadata": {},
     "output_type": "execute_result"
    }
   ],
   "source": [],
   "metadata": {
    "collapsed": false,
    "pycharm": {
     "name": "#%%\n"
    }
   }
  },
  {
   "cell_type": "code",
   "execution_count": null,
   "outputs": [],
   "source": [],
   "metadata": {
    "collapsed": false,
    "pycharm": {
     "name": "#%%\n"
    }
   }
  }
 ],
 "metadata": {
  "kernelspec": {
   "display_name": "Python 3",
   "language": "python",
   "name": "python3"
  },
  "language_info": {
   "codemirror_mode": {
    "name": "ipython",
    "version": 2
   },
   "file_extension": ".py",
   "mimetype": "text/x-python",
   "name": "python",
   "nbconvert_exporter": "python",
   "pygments_lexer": "ipython2",
   "version": "2.7.6"
  }
 },
 "nbformat": 4,
 "nbformat_minor": 0
}